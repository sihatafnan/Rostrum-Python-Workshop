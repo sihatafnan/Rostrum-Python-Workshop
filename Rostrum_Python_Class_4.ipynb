{
  "nbformat": 4,
  "nbformat_minor": 0,
  "metadata": {
    "colab": {
      "provenance": []
    },
    "kernelspec": {
      "name": "python3",
      "display_name": "Python 3"
    },
    "language_info": {
      "name": "python"
    }
  },
  "cells": [
    {
      "cell_type": "code",
      "execution_count": 1,
      "metadata": {
        "id": "AApJ5UIcsWkl"
      },
      "outputs": [],
      "source": [
        "x = 5\n",
        "\n",
        "def printer():\n",
        "  x = 10\n",
        "  print(x)"
      ]
    },
    {
      "cell_type": "code",
      "source": [
        "printer()"
      ],
      "metadata": {
        "colab": {
          "base_uri": "https://localhost:8080/"
        },
        "id": "lT2V80AHs1eY",
        "outputId": "bcc70b31-3441-4e64-8675-3690722cc82d"
      },
      "execution_count": 2,
      "outputs": [
        {
          "output_type": "stream",
          "name": "stdout",
          "text": [
            "10\n"
          ]
        }
      ]
    },
    {
      "cell_type": "code",
      "source": [
        "x"
      ],
      "metadata": {
        "colab": {
          "base_uri": "https://localhost:8080/"
        },
        "id": "T-6YOuJOtYco",
        "outputId": "395f0508-cdae-4155-c862-ee14c49eda91"
      },
      "execution_count": 3,
      "outputs": [
        {
          "output_type": "execute_result",
          "data": {
            "text/plain": [
              "5"
            ]
          },
          "metadata": {},
          "execution_count": 3
        }
      ]
    },
    {
      "cell_type": "code",
      "source": [
        "n = 5\n",
        "\n",
        "def printer():\n",
        "  global n\n",
        "  n = 10\n",
        "  print(n)\n",
        "\n",
        "printer()"
      ],
      "metadata": {
        "colab": {
          "base_uri": "https://localhost:8080/"
        },
        "id": "LAIHh5pft10A",
        "outputId": "908db90f-afd1-4a95-d2e9-6f521df4e2d2"
      },
      "execution_count": 7,
      "outputs": [
        {
          "output_type": "stream",
          "name": "stdout",
          "text": [
            "10\n"
          ]
        }
      ]
    },
    {
      "cell_type": "code",
      "source": [
        "n"
      ],
      "metadata": {
        "colab": {
          "base_uri": "https://localhost:8080/"
        },
        "id": "dMpw9njIurEt",
        "outputId": "c0b59223-62fe-4d7a-a99f-c900a32a1812"
      },
      "execution_count": 8,
      "outputs": [
        {
          "output_type": "execute_result",
          "data": {
            "text/plain": [
              "10"
            ]
          },
          "metadata": {},
          "execution_count": 8
        }
      ]
    },
    {
      "cell_type": "markdown",
      "source": [
        "args and kwargs"
      ],
      "metadata": {
        "id": "Oq0sq1emvdGC"
      }
    },
    {
      "cell_type": "code",
      "source": [
        "def dummy(a,b,c,d):\n",
        "  return sum([a,b,c,d])\n",
        "\n",
        "dummy(1,2,3,4)"
      ],
      "metadata": {
        "colab": {
          "base_uri": "https://localhost:8080/"
        },
        "id": "SnZRhw9yu3zv",
        "outputId": "82e3a9e9-0339-40e3-c01f-f24364394585"
      },
      "execution_count": 10,
      "outputs": [
        {
          "output_type": "execute_result",
          "data": {
            "text/plain": [
              "10"
            ]
          },
          "metadata": {},
          "execution_count": 10
        }
      ]
    },
    {
      "cell_type": "code",
      "source": [
        "def getSum(*args):\n",
        "  return sum(args)\n",
        "\n",
        "getSum(1,2,3,4,5)"
      ],
      "metadata": {
        "colab": {
          "base_uri": "https://localhost:8080/"
        },
        "id": "cLvz1rvOv3Dv",
        "outputId": "fd30b23a-0739-4b40-aef3-7f775f145ab8"
      },
      "execution_count": 12,
      "outputs": [
        {
          "output_type": "execute_result",
          "data": {
            "text/plain": [
              "15"
            ]
          },
          "metadata": {},
          "execution_count": 12
        }
      ]
    },
    {
      "cell_type": "code",
      "source": [
        "def example(**kwargs):\n",
        "  if \"fruit\" in kwargs:\n",
        "    print(kwargs[\"fruit\"])\n",
        "  else:\n",
        "    print(\"not found\")\n",
        "\n",
        "example(fruit=\"apple\")"
      ],
      "metadata": {
        "colab": {
          "base_uri": "https://localhost:8080/"
        },
        "id": "EVo-dqzzw2hY",
        "outputId": "ed0255ee-6497-4b35-df7b-6bfa15df1c67"
      },
      "execution_count": 13,
      "outputs": [
        {
          "output_type": "stream",
          "name": "stdout",
          "text": [
            "apple\n"
          ]
        }
      ]
    },
    {
      "cell_type": "markdown",
      "source": [
        "How to mount Google Drive with Colab Notebook"
      ],
      "metadata": {
        "id": "9TzFfTTcy0Gq"
      }
    },
    {
      "cell_type": "code",
      "source": [
        "from google.colab import drive\n",
        "drive.mount('/content/drive')"
      ],
      "metadata": {
        "colab": {
          "base_uri": "https://localhost:8080/"
        },
        "id": "KEDLyCF7xuXe",
        "outputId": "44f93f6b-a941-44f6-a1b8-544f78586a82"
      },
      "execution_count": 14,
      "outputs": [
        {
          "output_type": "stream",
          "name": "stdout",
          "text": [
            "Mounted at /content/drive\n"
          ]
        }
      ]
    },
    {
      "cell_type": "code",
      "source": [
        "path = \"/content/drive/MyDrive/env.txt\"\n",
        "\n",
        "with open(path) as f:\n",
        "  contents = f.read()\n",
        "\n",
        "print(contents)"
      ],
      "metadata": {
        "colab": {
          "base_uri": "https://localhost:8080/"
        },
        "id": "QhdM9CFD0Gj_",
        "outputId": "01ab2afe-462d-40e4-98b9-266325e51ef1"
      },
      "execution_count": 15,
      "outputs": [
        {
          "output_type": "stream",
          "name": "stdout",
          "text": [
            "Rostrum\n",
            "BCC\n",
            "Python\n",
            "\n"
          ]
        }
      ]
    },
    {
      "cell_type": "code",
      "source": [
        "with open(path, 'a') as f:\n",
        "  f.write('Hello, world!')\n",
        "\n",
        "with open(path) as f:\n",
        "  contents = f.read()\n",
        "\n",
        "print(contents)"
      ],
      "metadata": {
        "colab": {
          "base_uri": "https://localhost:8080/"
        },
        "id": "OjgEc2ph0eBj",
        "outputId": "5d19ba1d-793a-4513-f410-35351f2bee9e"
      },
      "execution_count": 16,
      "outputs": [
        {
          "output_type": "stream",
          "name": "stdout",
          "text": [
            "Rostrum\n",
            "BCC\n",
            "Python\n",
            "Hello, world!\n"
          ]
        }
      ]
    },
    {
      "cell_type": "markdown",
      "source": [
        "Shell Commands"
      ],
      "metadata": {
        "id": "fax6aXGZ1e_P"
      }
    },
    {
      "cell_type": "code",
      "source": [
        "!touch '/content/drive/MyDrive/env2.txt'"
      ],
      "metadata": {
        "id": "i1xhqH9H1Ddz"
      },
      "execution_count": 17,
      "outputs": []
    },
    {
      "cell_type": "code",
      "source": [
        "!rm '/content/drive/MyDrive/env.txt'"
      ],
      "metadata": {
        "id": "4qpci8Lh12tW"
      },
      "execution_count": 18,
      "outputs": []
    },
    {
      "cell_type": "code",
      "source": [
        "!mkdir '/content/drive/MyDrive/Env Files'"
      ],
      "metadata": {
        "id": "tSHtXY4y1-G3"
      },
      "execution_count": 19,
      "outputs": []
    },
    {
      "cell_type": "markdown",
      "source": [
        "Exception Handling"
      ],
      "metadata": {
        "id": "jWvxfrFV2a7h"
      }
    },
    {
      "cell_type": "code",
      "source": [
        "print('hello)"
      ],
      "metadata": {
        "colab": {
          "base_uri": "https://localhost:8080/",
          "height": 144
        },
        "id": "AlXQcmDM2ebE",
        "outputId": "5ca8ad3e-4470-4bb1-9ccf-a77fceeb36c8"
      },
      "execution_count": 20,
      "outputs": [
        {
          "output_type": "error",
          "ename": "SyntaxError",
          "evalue": "unterminated string literal (detected at line 1) (<ipython-input-20-126035ba983d>, line 1)",
          "traceback": [
            "\u001b[0;36m  File \u001b[0;32m\"<ipython-input-20-126035ba983d>\"\u001b[0;36m, line \u001b[0;32m1\u001b[0m\n\u001b[0;31m    print('hello)\u001b[0m\n\u001b[0m          ^\u001b[0m\n\u001b[0;31mSyntaxError\u001b[0m\u001b[0;31m:\u001b[0m unterminated string literal (detected at line 1)\n"
          ]
        }
      ]
    },
    {
      "cell_type": "code",
      "source": [
        "x = None\n",
        "\n",
        "print(x[\"key1\"])"
      ],
      "metadata": {
        "colab": {
          "base_uri": "https://localhost:8080/",
          "height": 216
        },
        "id": "ge5NAW2021Cd",
        "outputId": "628aad75-1a92-4d91-bcbc-79c08d6cf026"
      },
      "execution_count": 21,
      "outputs": [
        {
          "output_type": "error",
          "ename": "TypeError",
          "evalue": "'NoneType' object is not subscriptable",
          "traceback": [
            "\u001b[0;31m---------------------------------------------------------------------------\u001b[0m",
            "\u001b[0;31mTypeError\u001b[0m                                 Traceback (most recent call last)",
            "\u001b[0;32m<ipython-input-21-083ee10165a7>\u001b[0m in \u001b[0;36m<cell line: 3>\u001b[0;34m()\u001b[0m\n\u001b[1;32m      1\u001b[0m \u001b[0mx\u001b[0m \u001b[0;34m=\u001b[0m \u001b[0;32mNone\u001b[0m\u001b[0;34m\u001b[0m\u001b[0;34m\u001b[0m\u001b[0m\n\u001b[1;32m      2\u001b[0m \u001b[0;34m\u001b[0m\u001b[0m\n\u001b[0;32m----> 3\u001b[0;31m \u001b[0mprint\u001b[0m\u001b[0;34m(\u001b[0m\u001b[0mx\u001b[0m\u001b[0;34m[\u001b[0m\u001b[0;34m\"key1\"\u001b[0m\u001b[0;34m]\u001b[0m\u001b[0;34m)\u001b[0m\u001b[0;34m\u001b[0m\u001b[0;34m\u001b[0m\u001b[0m\n\u001b[0m",
            "\u001b[0;31mTypeError\u001b[0m: 'NoneType' object is not subscriptable"
          ]
        }
      ]
    },
    {
      "cell_type": "code",
      "source": [
        "try:\n",
        "  x = {\"key1\":5 , \"key2\":10}\n",
        "  x = None\n",
        "  print(x[\"key1\"])\n",
        "except:\n",
        "  print(\"Error : couldn't print value!!\")\n",
        "finally:\n",
        "  print(\"this is finally block\")"
      ],
      "metadata": {
        "colab": {
          "base_uri": "https://localhost:8080/"
        },
        "id": "Jyg-j3Q-2-gz",
        "outputId": "05e864eb-ba10-4e68-af68-dde337aaaa6f"
      },
      "execution_count": 25,
      "outputs": [
        {
          "output_type": "stream",
          "name": "stdout",
          "text": [
            "Error : couldn't print value!!\n",
            "this is finally block\n"
          ]
        }
      ]
    }
  ]
}